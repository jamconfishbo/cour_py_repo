{
 "cells": [
  {
   "cell_type": "code",
   "execution_count": 74,
   "metadata": {},
   "outputs": [],
   "source": [
    "import pandas as pd\n",
    "import os\n",
    "import pandas_to_sql\n",
    "import json"
   ]
  },
  {
   "cell_type": "code",
   "execution_count": 75,
   "metadata": {},
   "outputs": [],
   "source": [
    "dacsv = pd.read_csv(r'/Users/JamesConradFischer/MyCode/Coursera/python_sql/mapping-data/sample_data/wine-ratings-small.csv')\n"
   ]
  },
  {
   "cell_type": "code",
   "execution_count": 76,
   "metadata": {},
   "outputs": [],
   "source": [
    "##gets all wines that have a score greater than 90 and are red wine\n",
    "df =dacsv[(dacsv.rating > 90) & (dacsv.variety == \"Red Wine\")].to_dict()"
   ]
  },
  {
   "cell_type": "code",
   "execution_count": 77,
   "metadata": {},
   "outputs": [],
   "source": [
    "#convert dictionary with new constraints into a json file and save it to the disk\n",
    "\n",
    "with open(\"good_reds.json\", \"w\") as outfile:\n",
    "    json.dump(df, outfile)\n",
    "    \n",
    "    \n",
    "    "
   ]
  },
  {
   "cell_type": "code",
   "execution_count": 78,
   "metadata": {},
   "outputs": [],
   "source": [
    "#loading the json as a python dict\n",
    "with open(r'/Users/JamesConradFischer/MyCode/Coursera/python_sql/mapping-data/sample_data/wine-ratings.json') as f:\n",
    "    loaded_json = json.load(f)"
   ]
  },
  {
   "cell_type": "code",
   "execution_count": 79,
   "metadata": {},
   "outputs": [
    {
     "name": "stdout",
     "output_type": "stream",
     "text": [
      "name\n",
      "grape\n",
      "region\n",
      "variety\n",
      "rating\n",
      "notes\n"
     ]
    }
   ],
   "source": [
    "#the keys of the dictionary are like the columns of a dataframe\n",
    "for i in loaded_json.keys():\n",
    "    print(i)"
   ]
  },
  {
   "cell_type": "code",
   "execution_count": null,
   "metadata": {},
   "outputs": [],
   "source": [
    "\n"
   ]
  },
  {
   "cell_type": "code",
   "execution_count": null,
   "metadata": {},
   "outputs": [],
   "source": []
  },
  {
   "cell_type": "code",
   "execution_count": null,
   "metadata": {},
   "outputs": [],
   "source": []
  }
 ],
 "metadata": {
  "kernelspec": {
   "display_name": "Python 3",
   "language": "python",
   "name": "python3"
  },
  "language_info": {
   "codemirror_mode": {
    "name": "ipython",
    "version": 3
   },
   "file_extension": ".py",
   "mimetype": "text/x-python",
   "name": "python",
   "nbconvert_exporter": "python",
   "pygments_lexer": "ipython3",
   "version": "3.7.6"
  }
 },
 "nbformat": 4,
 "nbformat_minor": 4
}
